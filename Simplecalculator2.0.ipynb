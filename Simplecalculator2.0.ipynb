{
 "cells": [
  {
   "cell_type": "code",
   "execution_count": 12,
   "id": "af66e7c3",
   "metadata": {},
   "outputs": [
    {
     "name": "stdout",
     "output_type": "stream",
     "text": [
      "Enter number: 6\n",
      "+, -, *, /*\n",
      "Enter number: 5\n",
      "30.0\n"
     ]
    }
   ],
   "source": [
    "def addition(a, b):\n",
    "    return a + b\n",
    "\n",
    "def subtraction(a, b):\n",
    "    return a - b\n",
    "\n",
    "def multiplication(a, b):\n",
    "    return a * b\n",
    "\n",
    "def division(a, b):\n",
    "    if a == 0 or b== 0:\n",
    "        print(undefined)\n",
    "    else:\n",
    "        return a / b\n",
    "\n",
    "a = float(input(\"Enter number: \"))\n",
    "choice = input(\"+, -, *, /\")\n",
    "b = float(input(\"Enter number: \"))\n",
    "\n",
    "if choice == \"+\":\n",
    "    print(addition(a, b))\n",
    "    \n",
    "elif choice == \"-\":\n",
    "    print(subtraction(a, b))\n",
    "    \n",
    "elif choice == \"*\":\n",
    "    print(multiplication(a, b))\n",
    "    \n",
    "elif choice == \"/\":\n",
    "    print(division(a, b))\n",
    "    \n",
    "else:\n",
    "    print(\"Invalid input!\")"
   ]
  },
  {
   "cell_type": "code",
   "execution_count": null,
   "id": "43e1a612",
   "metadata": {},
   "outputs": [],
   "source": []
  },
  {
   "cell_type": "code",
   "execution_count": null,
   "id": "a8906d9f",
   "metadata": {},
   "outputs": [],
   "source": []
  }
 ],
 "metadata": {
  "kernelspec": {
   "display_name": "Python 3 (ipykernel)",
   "language": "python",
   "name": "python3"
  },
  "language_info": {
   "codemirror_mode": {
    "name": "ipython",
    "version": 3
   },
   "file_extension": ".py",
   "mimetype": "text/x-python",
   "name": "python",
   "nbconvert_exporter": "python",
   "pygments_lexer": "ipython3",
   "version": "3.10.9"
  }
 },
 "nbformat": 4,
 "nbformat_minor": 5
}
