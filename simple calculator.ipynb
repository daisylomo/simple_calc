{
 "cells": [
  {
   "cell_type": "code",
   "execution_count": null,
   "id": "76c1cdf5",
   "metadata": {
    "scrolled": true
   },
   "outputs": [],
   "source": [
    "#define functions for each operation\n",
    "\n",
    "def addition(a, b):\n",
    "    return a + b\n",
    "\n",
    "def subtraction(a, b):\n",
    "    return a - b\n",
    "\n",
    "def multiplication(a, b):\n",
    "    return a * b\n",
    "\n",
    "def division(a, b):\n",
    "    if b == 0:\n",
    "        print(\"Cannot divide by zero!\")\n",
    "    else:\n",
    "        return a / b\n",
    "\n",
    "num1 = float(input(\"Enter first number: \"))\n",
    "choice = input(\"add, subtract, multiply, divide: \")\n",
    "num2 = float(input(\"Enter second number: \"))\n",
    "\n",
    "if choice == \"+\":\n",
    "    print(addition(num1, num2))\n",
    "    \n",
    "elif choice == \"-\":\n",
    "    print(subtraction(num1, num2))\n",
    "    \n",
    "elif choice == \"x\":\n",
    "    print(multiplication(num1, num2))\n",
    "\n",
    "elif choice == \"/\":\n",
    "    print(division(num1, num2))\n",
    "    \n",
    "else:\n",
    "    print(\"Invalid input!\")"
   ]
  },
  {
   "cell_type": "code",
   "execution_count": null,
   "id": "1fe4f4d4",
   "metadata": {},
   "outputs": [],
   "source": []
  }
 ],
 "metadata": {
  "kernelspec": {
   "display_name": "Python 3 (ipykernel)",
   "language": "python",
   "name": "python3"
  },
  "language_info": {
   "codemirror_mode": {
    "name": "ipython",
    "version": 3
   },
   "file_extension": ".py",
   "mimetype": "text/x-python",
   "name": "python",
   "nbconvert_exporter": "python",
   "pygments_lexer": "ipython3",
   "version": "3.10.9"
  }
 },
 "nbformat": 4,
 "nbformat_minor": 5
}
